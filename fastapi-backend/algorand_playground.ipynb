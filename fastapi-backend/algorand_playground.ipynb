{
 "cells": [
  {
   "cell_type": "code",
   "execution_count": 1,
   "metadata": {},
   "outputs": [],
   "source": [
    "%reload_ext autoreload\n",
    "%autoreload 2"
   ]
  },
  {
   "cell_type": "code",
   "execution_count": 3,
   "metadata": {},
   "outputs": [
    {
     "name": "stdout",
     "output_type": "stream",
     "text": [
      "Requirement already satisfied: py-algorand-sdk in c:\\users\\abhik\\appdata\\local\\programs\\python\\python312\\lib\\site-packages (2.6.1)\n",
      "Requirement already satisfied: pynacl<2,>=1.4.0 in c:\\users\\abhik\\appdata\\local\\programs\\python\\python312\\lib\\site-packages (from py-algorand-sdk) (1.5.0)\n",
      "Requirement already satisfied: pycryptodomex<4,>=3.6.0 in c:\\users\\abhik\\appdata\\local\\programs\\python\\python312\\lib\\site-packages (from py-algorand-sdk) (3.21.0)\n",
      "Requirement already satisfied: msgpack<2,>=1.0.0 in c:\\users\\abhik\\appdata\\local\\programs\\python\\python312\\lib\\site-packages (from py-algorand-sdk) (1.1.0)\n",
      "Requirement already satisfied: cffi>=1.4.1 in c:\\users\\abhik\\appdata\\local\\programs\\python\\python312\\lib\\site-packages (from pynacl<2,>=1.4.0->py-algorand-sdk) (1.17.1)\n",
      "Requirement already satisfied: pycparser in c:\\users\\abhik\\appdata\\local\\programs\\python\\python312\\lib\\site-packages (from cffi>=1.4.1->pynacl<2,>=1.4.0->py-algorand-sdk) (2.22)\n"
     ]
    }
   ],
   "source": [
    "!pip3 install py-algorand-sdk"
   ]
  },
  {
   "cell_type": "code",
   "execution_count": 4,
   "metadata": {},
   "outputs": [],
   "source": [
    "import base64\n",
    "import json\n",
    "from algosdk.v2client import algod\n",
    "from algosdk import account, mnemonic\n",
    "from algosdk.transaction import AssetConfigTxn, AssetTransferTxn, AssetFreezeTxn\n",
    "from algosdk.transaction import *\n",
    "from algod import *"
   ]
  },
  {
   "cell_type": "code",
   "execution_count": 5,
   "metadata": {},
   "outputs": [],
   "source": [
    "# For ease of reference, add account public and private keys to\n",
    "# an accounts dict.\n",
    "accounts = {}\n",
    "counter = 1\n",
    "for m in [create_account(),create_account()]:\n",
    "    accounts[counter] = {}\n",
    "    accounts[counter]['public_key'] = m.get('public_key')\n",
    "    accounts[counter]['private_key'] = m.get('private_key')\n",
    "    counter += 1"
   ]
  },
  {
   "cell_type": "code",
   "execution_count": 6,
   "metadata": {},
   "outputs": [
    {
     "name": "stdout",
     "output_type": "stream",
     "text": [
      "{1: {'private_key': '3bsyqZN1SS5E+yIur13yQdW2WAawqTItWxVSaGAviXZ3jW8eS3lpJ0Vwztt/Kx9pMJFkcxq+U1iCv/pdYqyN+Q==',\n",
      "     'public_key': 'O6GW6HSLPFUSORLQZ3NX6KY7NEYJCZDTDK7FGWECX75F2YVMRX4WRAUC5Y'},\n",
      " 2: {'private_key': 'SnGHnmdlB4YLL4IzNC/6+cU0eP1q5rv+eK4t7QnHSGOvZsViDobWdWhL8tWs6lHasC9iQTsxq+uWc2uqsQGlhw==',\n",
      "     'public_key': 'V5TMKYQOQ3LHK2CL6LK2Z2SR3KYC6YSBHMY2X24WONV2VMIBUWDQUD2NUE'}}\n"
     ]
    }
   ],
   "source": [
    "import pprint\n",
    "pprint.pprint(accounts)"
   ]
  },
  {
   "cell_type": "markdown",
   "metadata": {},
   "source": [
    "## Ran this command to transfer some microalgo to account 1 & 2\n",
    "./sandbox goal clerk send -a 1000000 -f PPTVLKRE5DMIO42TYHGM6SMPMTB3A6V5PKV7JWFHRAQLOSCFPK3CEUXHJ4 -t public_key1  \n",
    "./sandbox goal clerk send -a 1000000 -f PPTVLKRE5DMIO42TYHGM6SMPMTB3A6V5PKV7JWFHRAQLOSCFPK3CEUXHJ4 -t public_key2\n"
   ]
  },
  {
   "cell_type": "code",
   "execution_count": 7,
   "metadata": {},
   "outputs": [
    {
     "name": "stdout",
     "output_type": "stream",
     "text": [
      "Account balance for O6GW6HSLPFUSORLQZ3NX6KY7NEYJCZDTDK7FGWECX75F2YVMRX4WRAUC5Y: 1000000000000 microAlgos\n",
      "Account balance for V5TMKYQOQ3LHK2CL6LK2Z2SR3KYC6YSBHMY2X24WONV2VMIBUWDQUD2NUE: 1000000000000 microAlgos\n"
     ]
    }
   ],
   "source": [
    "account_info = algod_client.account_info(accounts[1]['public_key'])\n",
    "print(f\"Account balance for {accounts[1]['public_key']}: {account_info.get('amount')} microAlgos\")\n",
    "account_info = algod_client.account_info(accounts[2]['public_key'])\n",
    "print(f\"Account balance for {accounts[2]['public_key']}: {account_info.get('amount')} microAlgos\")\n"
   ]
  },
  {
   "cell_type": "code",
   "execution_count": null,
   "metadata": {},
   "outputs": [
    {
     "name": "stdout",
     "output_type": "stream",
     "text": [
      "transaction {_struct:{} Sig:[23 204 171 246 9 239 88 170 139 142 51 44 118 63 207 142 252 175 255 251 150 214 255 27 183 39 62 131 17 56 171 9 93 84 238 242 208 17 193 89 57 216 200 253 86 201 181 121 159 207 247 77 11 190 233 137 183 21 219 248 74 170 90 2] Msig:{_struct:{} Version:0 Threshold:0 Subsigs:[]} Lsig:{_struct:{} Logic:[] Sig:[0 0 0 0 0 0 0 0 0 0 0 0 0 0 0 0 0 0 0 0 0 0 0 0 0 0 0 0 0 0 0 0 0 0 0 0 0 0 0 0 0 0 0 0 0 0 0 0 0 0 0 0 0 0 0 0 0 0 0 0 0 0 0 0] Msig:{_struct:{} Version:0 Threshold:0 Subsigs:[]} Args:[]} Txn:{_struct:{} Type:acfg Header:{_struct:{} Sender:O6GW6HSLPFUSORLQZ3NX6KY7NEYJCZDTDK7FGWECX75F2YVMRX4WRAUC5Y Fee:{Raw:1000} FirstValid:152 LastValid:1152 Note:[] GenesisID:dockernet-v1 GenesisHash:J2EY4TYVNR5KF3PP6TSMH4LBQ6BYH65SR3LKS3P2HQ27RZFR7O5A Group:AAAAAAAAAAAAAAAAAAAAAAAAAAAAAAAAAAAAAAAAAAAAAAAAAAAA Lease:[0 0 0 0 0 0 0 0 0 0 0 0 0 0 0 0 0 0 0 0 0 0 0 0 0 0 0 0 0 0 0 0] RekeyTo:AAAAAAAAAAAAAAAAAAAAAAAAAAAAAAAAAAAAAAAAAAAAAAAAAAAAY5HFKQ} KeyregTxnFields:{_struct:{} VotePK:[0 0 0 0 0 0 0 0 0 0 0 0 0 0 0 0 0 0 0 0 0 0 0 0 0 0 0 0 0 0 0 0] SelectionPK:[0 0 0 0 0 0 0 0 0 0 0 0 0 0 0 0 0 0 0 0 0 0 0 0 0 0 0 0 0 0 0 0] StateProofPK:[0 0 0 0 0 0 0 0 0 0 0 0 0 0 0 0 0 0 0 0 0 0 0 0 0 0 0 0 0 0 0 0 0 0 0 0 0 0 0 0 0 0 0 0 0 0 0 0 0 0 0 0 0 0 0 0 0 0 0 0 0 0 0 0] VoteFirst:0 VoteLast:0 VoteKeyDilution:0 Nonparticipation:false} PaymentTxnFields:{_struct:{} Receiver:AAAAAAAAAAAAAAAAAAAAAAAAAAAAAAAAAAAAAAAAAAAAAAAAAAAAY5HFKQ Amount:{Raw:0} CloseRemainderTo:AAAAAAAAAAAAAAAAAAAAAAAAAAAAAAAAAAAAAAAAAAAAAAAAAAAAY5HFKQ} AssetConfigTxnFields:{_struct:{} ConfigAsset:0 AssetParams:{_struct:{} Total:1 Decimals:0 DefaultFrozen:false UnitName:CERT AssetName:Grad_Cert_For_Trainee_Abhishek URL:https://bafybeiahqrxg2xs54iebrve3gehglwn4kmxunobb7rhi5nsspr43becx4a.ipfs.dweb.link?filename=1.jpg MetadataHash:[0 0 0 0 0 0 0 0 0 0 0 0 0 0 0 0 0 0 0 0 0 0 0 0 0 0 0 0 0 0 0 0] Manager:O6GW6HSLPFUSORLQZ3NX6KY7NEYJCZDTDK7FGWECX75F2YVMRX4WRAUC5Y Reserve:O6GW6HSLPFUSORLQZ3NX6KY7NEYJCZDTDK7FGWECX75F2YVMRX4WRAUC5Y Freeze:O6GW6HSLPFUSORLQZ3NX6KY7NEYJCZDTDK7FGWECX75F2YVMRX4WRAUC5Y Clawback:O6GW6HSLPFUSORLQZ3NX6KY7NEYJCZDTDK7FGWECX75F2YVMRX4WRAUC5Y}} AssetTransferTxnFields:{_struct:{} XferAsset:0 AssetAmount:0 AssetSender:AAAAAAAAAAAAAAAAAAAAAAAAAAAAAAAAAAAAAAAAAAAAAAAAAAAAY5HFKQ AssetReceiver:AAAAAAAAAAAAAAAAAAAAAAAAAAAAAAAAAAAAAAAAAAAAAAAAAAAAY5HFKQ AssetCloseTo:AAAAAAAAAAAAAAAAAAAAAAAAAAAAAAAAAAAAAAAAAAAAAAAAAAAAY5HFKQ} AssetFreezeTxnFields:{_struct:{} FreezeAccount:AAAAAAAAAAAAAAAAAAAAAAAAAAAAAAAAAAAAAAAAAAAAAAAAAAAAY5HFKQ FreezeAsset:0 AssetFrozen:false} ApplicationCallTxnFields:{_struct:{} ApplicationID:0 OnCompletion:NoOpOC ApplicationArgs:[] Accounts:[] ForeignApps:[] Boxes:[] ForeignAssets:[] LocalStateSchema:{_struct:{} NumUint:0 NumByteSlice:0} GlobalStateSchema:{_struct:{} NumUint:0 NumByteSlice:0} ApprovalProgram:[] ClearStateProgram:[] ExtraProgramPages:0} StateProofTxnFields:{_struct:{} StateProofType:0 StateProof:StateProof: {} Message:{_struct:{} BlockHeadersCommitment:[] VotersCommitment:[] LnProvenWeight:0 FirstAttestedRound:0 LastAttestedRound:0}}} AuthAddr:AAAAAAAAAAAAAAAAAAAAAAAAAAAAAAAAAAAAAAAAAAAAAAAAAAAAY5HFKQ} invalid : transaction asset url too big: 97 > 96\n"
     ]
    }
   ],
   "source": [
    "# Get network params for transactions before every transaction.\n",
    "params = algod_client.suggested_params()\n",
    "\n",
    "# Account 1 creates an asset called graduation certificate \n",
    "# Ensure sender's private key is included\n",
    "txid = create_asset(\n",
    "    unit_name='CERT',\n",
    "    asset_name='Grad_Cert_For_Trainee_Abhishek',\n",
    "    total=1,\n",
    "    sender_public_key=accounts[1]['public_key'],\n",
    "    sender_private_key=accounts[1]['private_key'],  # Include the private key\n",
    "    asset_url='https://tinyurl.com/eddt397j'\n",
    ")\n",
    "\n",
    "\n"
   ]
  },
  {
   "cell_type": "code",
   "execution_count": 9,
   "metadata": {},
   "outputs": [],
   "source": [
    "#   Utility function used to print created asset for account and assetid\n",
    "def print_created_asset(algodclient, account, assetid):    \n",
    "    # note: if you have an indexer instance available it is easier to just use this\n",
    "    # response = myindexer.accounts(asset_id = assetid)\n",
    "    # then use 'account_info['created-assets'][0] to get info on the created asset\n",
    "    account_info = algodclient.account_info(account)\n",
    "    idx = 0;\n",
    "    for my_account_info in account_info['created-assets']:\n",
    "        scrutinized_asset = account_info['created-assets'][idx]\n",
    "        idx = idx + 1       \n",
    "        if (scrutinized_asset['index'] == assetid):\n",
    "            print(\"Asset ID: {}\".format(scrutinized_asset['index']))\n",
    "            print(json.dumps(my_account_info['params'], indent=4))\n",
    "            break\n",
    "\n",
    "#   Utility function used to print asset holding for account and assetid\n",
    "def print_asset_holding(algodclient, account, assetid):\n",
    "    # note: if you have an indexer instance available it is easier to just use this\n",
    "    # response = myindexer.accounts(asset_id = assetid)\n",
    "    # then loop thru the accounts returned and match the account you are looking for\n",
    "    account_info = algodclient.account_info(account)\n",
    "    idx = 0\n",
    "    for my_account_info in account_info['assets']:\n",
    "        scrutinized_asset = account_info['assets'][idx]\n",
    "        idx = idx + 1        \n",
    "        if (scrutinized_asset['asset-id'] == assetid):\n",
    "            print(\"Asset ID: {}\".format(scrutinized_asset['asset-id']))\n",
    "            print(json.dumps(scrutinized_asset, indent=4))\n",
    "            break\n"
   ]
  },
  {
   "cell_type": "code",
   "execution_count": 10,
   "metadata": {},
   "outputs": [
    {
     "name": "stdout",
     "output_type": "stream",
     "text": [
      "Asset ID: 1040\n",
      "{\n",
      "    \"clawback\": \"FRE47I6OIB2ZNZPHM7JO56PPPU4C7RDFQCMVSAVIGVD5AVSXRPJEKOTGFM\",\n",
      "    \"creator\": \"FRE47I6OIB2ZNZPHM7JO56PPPU4C7RDFQCMVSAVIGVD5AVSXRPJEKOTGFM\",\n",
      "    \"decimals\": 0,\n",
      "    \"default-frozen\": false,\n",
      "    \"freeze\": \"FRE47I6OIB2ZNZPHM7JO56PPPU4C7RDFQCMVSAVIGVD5AVSXRPJEKOTGFM\",\n",
      "    \"manager\": \"FRE47I6OIB2ZNZPHM7JO56PPPU4C7RDFQCMVSAVIGVD5AVSXRPJEKOTGFM\",\n",
      "    \"name\": \"Grad_Cert_For_Trainee_Abdulhamid\",\n",
      "    \"name-b64\": \"R3JhZF9DZXJ0X0Zvcl9UcmFpbmVlX0FiZHVsaGFtaWQ=\",\n",
      "    \"reserve\": \"FRE47I6OIB2ZNZPHM7JO56PPPU4C7RDFQCMVSAVIGVD5AVSXRPJEKOTGFM\",\n",
      "    \"total\": 1,\n",
      "    \"unit-name\": \"ABDUCERT\",\n",
      "    \"unit-name-b64\": \"QUJEVUNFUlQ=\",\n",
      "    \"url\": \"https://ipfs.io/ipfs/Qmaq9wd5Pvfcie2rDxtafrj2UjssWL6AtCr2HYbXewwAzc\",\n",
      "    \"url-b64\": \"aHR0cHM6Ly9pcGZzLmlvL2lwZnMvUW1hcTl3ZDVQdmZjaWUyckR4dGFmcmoyVWpzc1dMNkF0Q3IySFliWGV3d0F6Yw==\"\n",
      "}\n",
      "Asset ID: 1040\n",
      "{\n",
      "    \"amount\": 1,\n",
      "    \"asset-id\": 1040,\n",
      "    \"is-frozen\": false\n",
      "}\n"
     ]
    }
   ],
   "source": [
    "try:\n",
    "    # Pull account info for the creator\n",
    "    # account_info = algod_client.account_info(accounts[1]['pk'])\n",
    "    # get asset_id from tx\n",
    "    # Get the new asset's information from the creator account\n",
    "    ptx = algod_client.pending_transaction_info(txid)\n",
    "    asset_id = ptx[\"asset-index\"]\n",
    "    print_created_asset(algod_client, accounts[1]['public_key'], asset_id)\n",
    "    print_asset_holding(algod_client, accounts[1]['public_key'], asset_id)\n",
    "except Exception as e:\n",
    "    print(e)"
   ]
  },
  {
   "cell_type": "code",
   "execution_count": 12,
   "metadata": {},
   "outputs": [
    {
     "name": "stdout",
     "output_type": "stream",
     "text": [
      "Signed transaction with txID: BL22WCKWETUZ4T63NKXHIPOLNGBF7DQF6ELZBBUNHPCRISKDDUJA\n",
      "TXID:  BL22WCKWETUZ4T63NKXHIPOLNGBF7DQF6ELZBBUNHPCRISKDDUJA\n",
      "Result confirmed in round: 6159\n",
      "Asset ID: 1040\n",
      "{\n",
      "    \"amount\": 0,\n",
      "    \"asset-id\": 1040,\n",
      "    \"is-frozen\": false\n",
      "}\n"
     ]
    }
   ],
   "source": [
    "# OPT-IN\n",
    "\n",
    "# Check if asset_id is in account 2's asset holdings prior\n",
    "# to opt-in\n",
    "params = algod_client.suggested_params()\n",
    "# comment these two lines if you want to use suggested params\n",
    "# params.fee = 1000\n",
    "# params.flat_fee = True\n",
    "\n",
    "account_info = algod_client.account_info(accounts[2]['public_key'])\n",
    "holding = None\n",
    "idx = 0\n",
    "for my_account_info in account_info['assets']:\n",
    "    scrutinized_asset = account_info['assets'][idx]\n",
    "    idx = idx + 1    \n",
    "    if (scrutinized_asset['asset-id'] == asset_id):\n",
    "        holding = True\n",
    "        break\n",
    "\n",
    "if not holding:\n",
    "     # Use the AssetTransferTxn class to transfer assets and opt-in\n",
    "    txn = AssetTransferTxn(\n",
    "        sender=accounts[2]['public_key'],\n",
    "        sp=params,\n",
    "        receiver=accounts[2][\"public_key\"],\n",
    "        amt=0,\n",
    "        index=asset_id)\n",
    "    stxn = txn.sign(accounts[2]['private_key'])\n",
    "    # Send the transaction to the network and retrieve the txid.\n",
    "    try:\n",
    "        txid = algod_client.send_transaction(stxn)\n",
    "        print(\"Signed transaction with txID: {}\".format(txid))\n",
    "        # Wait for the transaction to be confirmed\n",
    "        confirmed_txn = wait_for_confirmation(algod_client, txid, 4) \n",
    "        print(\"TXID: \", txid)\n",
    "        print(\"Result confirmed in round: {}\".format(confirmed_txn['confirmed-round']))\n",
    " \n",
    "    except Exception as err:\n",
    "        print(err)\n",
    "    # Now check the asset holding for that account.\n",
    "    # This should now show a holding with a balance of 0.\n",
    "    print_asset_holding(algod_client, accounts[2]['public_key'], asset_id)\n",
    "    \n",
    "\n"
   ]
  },
  {
   "cell_type": "code",
   "execution_count": 13,
   "metadata": {},
   "outputs": [
    {
     "name": "stdout",
     "output_type": "stream",
     "text": [
      "Signed transaction with txID: 7ZAUA24L5UUC3WNDCKWW53PTYDVFQJTK3YXCSLNJ6YJRKKCABTMQ\n",
      "TXID:  7ZAUA24L5UUC3WNDCKWW53PTYDVFQJTK3YXCSLNJ6YJRKKCABTMQ\n",
      "Result confirmed in round: 6163\n",
      "Asset ID: 1040\n",
      "{\n",
      "    \"amount\": 1,\n",
      "    \"asset-id\": 1040,\n",
      "    \"is-frozen\": false\n",
      "}\n"
     ]
    }
   ],
   "source": [
    "# transfer asset of 10 from account 1 to account 3\n",
    "params = algod_client.suggested_params()\n",
    "# comment these two lines if you want to use suggested params\n",
    "# params.fee = 1000\n",
    "# params.flat_fee = True\n",
    "txn = AssetTransferTxn(\n",
    "    sender=accounts[1]['public_key'],\n",
    "    sp=params,\n",
    "    receiver=accounts[2][\"public_key\"],\n",
    "    amt=1,\n",
    "    index=asset_id)\n",
    "stxn = txn.sign(accounts[1]['private_key'])\n",
    "# Send the transaction to the network and retrieve the txid.\n",
    "try:\n",
    "    txid = algod_client.send_transaction(stxn)\n",
    "    print(\"Signed transaction with txID: {}\".format(txid))\n",
    "    # Wait for the transaction to be confirmed\n",
    "    confirmed_txn = wait_for_confirmation(algod_client, txid, 4) \n",
    "    print(\"TXID: \", txid)\n",
    "    print(\"Result confirmed in round: {}\".format(confirmed_txn['confirmed-round']))\n",
    "\n",
    "except Exception as err:\n",
    "    print(err)\n",
    "# The balance should now be 10.\n",
    "print_asset_holding(algod_client, accounts[2]['public_key'], asset_id)"
   ]
  },
  {
   "cell_type": "code",
   "execution_count": null,
   "metadata": {},
   "outputs": [],
   "source": []
  }
 ],
 "metadata": {
  "kernelspec": {
   "display_name": "Python 3",
   "language": "python",
   "name": "python3"
  },
  "language_info": {
   "codemirror_mode": {
    "name": "ipython",
    "version": 3
   },
   "file_extension": ".py",
   "mimetype": "text/x-python",
   "name": "python",
   "nbconvert_exporter": "python",
   "pygments_lexer": "ipython3",
   "version": "3.12.7"
  }
 },
 "nbformat": 4,
 "nbformat_minor": 2
}
